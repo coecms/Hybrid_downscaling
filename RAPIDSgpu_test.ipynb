{
 "cells": [
  {
   "cell_type": "markdown",
   "id": "d4b22a9a-6680-4b9f-bb56-d0da83a0fcf9",
   "metadata": {},
   "source": [
    "# Testing Rapid's Features"
   ]
  },
  {
   "cell_type": "markdown",
   "id": "714f456d-f923-4e94-8bea-615a7c7c2138",
   "metadata": {},
   "source": [
    "This notebook is my testing ground for some of RAPIDs features to try to understand how they work and whether they are useful for Sanaa's ML code. \n",
    "\n",
    "- dask_cuda - Version of Dask that works on GPUs.\n",
    "- cudf - Pandas for GPU.\n",
    "- dask_cudf - Dask wrapped Pandas for GPU.\n",
    "- cuml - Similar funcitons to Sklearn but for GPU.\n",
    "- cupy - Numpy for GPU.\n",
    "\n",
    "The idea is that since all these libraries are a part of RAPIDs then they should play together nicely. And it potentially seems that they could replace the ML script that uses Sklearn to do the machine learning."
   ]
  },
  {
   "cell_type": "markdown",
   "id": "ae4d74af-da94-4930-928b-2c03d358e073",
   "metadata": {},
   "source": [
    "## The Libraries:"
   ]
  },
  {
   "cell_type": "code",
   "execution_count": 1,
   "id": "6beec70a-36d4-45f7-a475-d3552bbbbd10",
   "metadata": {},
   "outputs": [
    {
     "name": "stderr",
     "output_type": "stream",
     "text": [
      "distributed.preloading - INFO - Import preload module: dask_cuda.initialize\n",
      "distributed.preloading - INFO - Import preload module: dask_cuda.initialize\n"
     ]
    }
   ],
   "source": [
    "from dask_cuda import LocalCUDACluster\n",
    "from dask.distributed import Client\n",
    "\n",
    "import cudf\n",
    "import cuml\n",
    "import cupy as cp\n",
    "import dask_cudf\n",
    "\n",
    "cluster = LocalCUDACluster()\n",
    "client = Client(cluster)"
   ]
  },
  {
   "cell_type": "code",
   "execution_count": 2,
   "id": "997e1d5f-c66f-4543-969b-87957a2a0b8c",
   "metadata": {},
   "outputs": [
    {
     "name": "stdout",
     "output_type": "stream",
     "text": [
      "<Client: 'tcp://127.0.0.1:44763' processes=2 threads=2, memory=191.00 GiB>\n"
     ]
    }
   ],
   "source": [
    "print(client)"
   ]
  },
  {
   "cell_type": "markdown",
   "id": "9a70b377-e3cf-4291-b1c7-499f5f227459",
   "metadata": {
    "jp-MarkdownHeadingCollapsed": true,
    "tags": []
   },
   "source": [
    "## Testing dask delayed"
   ]
  },
  {
   "cell_type": "code",
   "execution_count": 100,
   "id": "a7da37c7-9c48-453c-840a-c19bf9748c45",
   "metadata": {},
   "outputs": [],
   "source": [
    "from dask import delayed\n",
    "import time"
   ]
  },
  {
   "cell_type": "code",
   "execution_count": 29,
   "id": "c22926c1-00a2-4bb3-93c8-e8339aff5e36",
   "metadata": {},
   "outputs": [],
   "source": [
    "@delayed\n",
    "def inc(x):\n",
    "    time.sleep(0.5)\n",
    "    return x + 1\n",
    "\n",
    "@delayed\n",
    "def double(x):\n",
    "    time.sleep(0.5)\n",
    "    return 2 * x\n",
    "\n",
    "@delayed\n",
    "def add(x, y):\n",
    "    time.sleep(0.5)\n",
    "    return x + y"
   ]
  },
  {
   "cell_type": "code",
   "execution_count": 40,
   "id": "3b912a51-3e8c-4cd5-9fd6-59c5e1c2bf5b",
   "metadata": {},
   "outputs": [],
   "source": [
    "data = cp.array([1, 2, 3, 4])\n",
    "output = cp.array([])"
   ]
  },
  {
   "cell_type": "code",
   "execution_count": 62,
   "id": "f5838cf1-881b-42fa-a99c-5720105918bf",
   "metadata": {},
   "outputs": [
    {
     "data": {
      "text/plain": [
       "array([1, 2, 3, 4])"
      ]
     },
     "execution_count": 62,
     "metadata": {},
     "output_type": "execute_result"
    }
   ],
   "source": [
    "data"
   ]
  },
  {
   "cell_type": "code",
   "execution_count": 63,
   "id": "4c1c5a26-090c-4842-a326-04c3731f2bd5",
   "metadata": {},
   "outputs": [
    {
     "name": "stdout",
     "output_type": "stream",
     "text": [
      "CPU times: user 2.62 ms, sys: 752 µs, total: 3.38 ms\n",
      "Wall time: 2.72 ms\n"
     ]
    },
    {
     "data": {
      "text/plain": [
       "Delayed('sum-7af87d9f-4f48-4637-bacc-07ae8b6c7efa')"
      ]
     },
     "execution_count": 63,
     "metadata": {},
     "output_type": "execute_result"
    }
   ],
   "source": [
    "%%time\n",
    "\n",
    "#data = [1, 2, 3, 4]\n",
    "data = cp.array([1, 2, 3, 4])\n",
    "\n",
    "output = []\n",
    "for x in data:\n",
    "    a = inc(x)\n",
    "    b = double(x)\n",
    "    c = add(a, b)\n",
    "    output.append(c)\n",
    "\n",
    "total = delayed(sum)(output)\n",
    "total"
   ]
  },
  {
   "cell_type": "code",
   "execution_count": 32,
   "id": "688de11d-0c83-4829-81f5-7c946c97acfb",
   "metadata": {},
   "outputs": [
    {
     "name": "stdout",
     "output_type": "stream",
     "text": [
      "CPU times: user 339 ms, sys: 48.6 ms, total: 387 ms\n",
      "Wall time: 3.05 s\n"
     ]
    },
    {
     "data": {
      "text/plain": [
       "34"
      ]
     },
     "execution_count": 32,
     "metadata": {},
     "output_type": "execute_result"
    }
   ],
   "source": [
    "%%time\n",
    "\n",
    "total.compute()"
   ]
  },
  {
   "cell_type": "markdown",
   "id": "24dc6c88-e1a4-4d2a-95be-cd9079045c6b",
   "metadata": {},
   "source": [
    "## Converting main_MLR2_RF.py to GPU "
   ]
  },
  {
   "cell_type": "code",
   "execution_count": 97,
   "id": "a82b5f76-885e-4be7-95c7-76791a3289de",
   "metadata": {},
   "outputs": [],
   "source": [
    "load_dir_dataset = \"/g/data/w97/sho561/Downscale/BARRA/Training_Testing_new/\""
   ]
  },
  {
   "cell_type": "code",
   "execution_count": 122,
   "id": "69ebf577-b861-4c23-a1f9-6aa325375fbd",
   "metadata": {},
   "outputs": [],
   "source": [
    "train_grids = cp.array([642, 714, 720, 1207, 1233, 1682, 1728, 2348, 2817, 2855, 3002, 3114, 3346, 3809, 4233, 4322, 4615, 4623, 6081, 6145])\n",
    "all_years = cp.arange(1990,2019, step=1)\n",
    "train_years = cp.array([1990, 1991, 1992, 1995, 1996, 2001, 2003, 2004, 2016, 2018])\n",
    "test_years = cp.array([1993, 1994, 1997, 1998, 1999, 2000, 2002, 2005, 2006, 2007, 2008, 2009, 2010, 2011, 2012, 2013, 2014, 2015, 2017, 2019]) \n",
    "\n",
    "featuresList = ['av_lat_hflx', 'av_mslp', 'av_netlwsfc', 'av_netswsfc', 'av_qsair_scrn', 'av_temp_scrn', \n",
    "'av_canopy_height', 'av_uwnd10m', 'av_vwnd10m', 'av_leaf_area_index', 'soil_albedo', 'soil_porosity', 'soil_bulk_density', 'topog' ]\n",
    "\n",
    "seed = 100\n",
    "ntrees = 100"
   ]
  },
  {
   "cell_type": "markdown",
   "id": "951cf1bb-3afe-4d8f-801d-55c66faf02c6",
   "metadata": {},
   "source": [
    " "
   ]
  },
  {
   "cell_type": "code",
   "execution_count": null,
   "id": "f4f3baab-6d7f-4387-8fe0-73e28d655d63",
   "metadata": {},
   "outputs": [],
   "source": []
  },
  {
   "cell_type": "code",
   "execution_count": null,
   "id": "e4758af3-e794-434d-b401-4bf3e50e47a2",
   "metadata": {},
   "outputs": [],
   "source": []
  },
  {
   "cell_type": "markdown",
   "id": "ba92d0d0-6a49-4ba7-9373-3fab1fdfbce3",
   "metadata": {},
   "source": [
    "- Check to see if the array is using GPU"
   ]
  },
  {
   "cell_type": "code",
   "execution_count": 92,
   "id": "4b6c9419-882e-4225-9e64-ca9a1463a180",
   "metadata": {},
   "outputs": [
    {
     "data": {
      "text/plain": [
       "<module 'cupy' from '/opt/conda/envs/rapids/lib/python3.9/site-packages/cupy/__init__.py'>"
      ]
     },
     "execution_count": 92,
     "metadata": {},
     "output_type": "execute_result"
    }
   ],
   "source": [
    "cp.get_array_module(all_years)"
   ]
  },
  {
   "cell_type": "code",
   "execution_count": null,
   "id": "7363a851-4ed9-4408-9237-4fd25ffbadf0",
   "metadata": {},
   "outputs": [],
   "source": []
  },
  {
   "cell_type": "code",
   "execution_count": null,
   "id": "c90d205b-932a-45b3-aa64-96968b493625",
   "metadata": {},
   "outputs": [],
   "source": []
  },
  {
   "cell_type": "code",
   "execution_count": null,
   "id": "b1cd21fb-7b02-4158-95ca-7006e6f21ae0",
   "metadata": {},
   "outputs": [],
   "source": [
    "@dask.delayed\n",
    "def opendata(file)"
   ]
  },
  {
   "cell_type": "markdown",
   "id": "6154022f-0b24-4722-8feb-a1c1597d0f9d",
   "metadata": {},
   "source": [
    "- Training data"
   ]
  },
  {
   "cell_type": "code",
   "execution_count": 133,
   "id": "54a33022-9ce2-4137-a393-7cb095efb775",
   "metadata": {},
   "outputs": [
    {
     "name": "stdout",
     "output_type": "stream",
     "text": [
      "CPU times: user 0 ns, sys: 797 ms, total: 797 ms\n",
      "Wall time: 612 ms\n"
     ]
    }
   ],
   "source": [
    "%%time\n",
    "\n",
    "all_sample_df = cudf.DataFrame()\n",
    "for year in all_years:\n",
    "        \n",
    "    filename_dataset = load_dir_dataset +'%s_%s_predictors_target.csv' %(train_grids[0], year)\n",
    "    single_year_df = cudf.read_csv(filename_dataset)\n",
    "    # Multi layer perceptron doesn't like Null values\n",
    "    single_year_df = single_year_df.dropna(axis=0)\n",
    "    all_sample_df = cudf.concat([all_sample_df, single_year_df])\n",
    "        \n",
    "    \n",
    "# concatening will mess up with the index of the combined dataframe\n",
    "all_sample_df= all_sample_df.reset_index()"
   ]
  },
  {
   "cell_type": "code",
   "execution_count": 128,
   "id": "7248b29f-2cb9-4cad-af36-fbf5fe3f57cd",
   "metadata": {},
   "outputs": [
    {
     "data": {
      "text/plain": [
       "<module 'cupy' from '/opt/conda/envs/rapids/lib/python3.9/site-packages/cupy/__init__.py'>"
      ]
     },
     "execution_count": 128,
     "metadata": {},
     "output_type": "execute_result"
    }
   ],
   "source": [
    "cp.get_array_module(single_year_df.to_cupy())"
   ]
  },
  {
   "cell_type": "code",
   "execution_count": 141,
   "id": "271ceedd-42ee-47b2-8ba0-2217fd36fee8",
   "metadata": {},
   "outputs": [],
   "source": [
    "# split the data into training and testing\n",
    "index_testing = all_sample_df.where(all_sample_df['year'].isin(test_years))\n",
    "#index_testing = index_testing.dropna(axis=0).to_cupy()\n",
    "index_training = all_sample_df.where(all_sample_df['year'].isin(train_years))\n",
    "#index_training = index_training.dropna(axis=0).to_cupy()\n",
    "#in_sample_df = all_sample_df.iloc[index_training.to_cupy()]\n",
    "#out_sample_df = all_sample_df.iloc[index_testing.to_cupy()]"
   ]
  },
  {
   "cell_type": "code",
   "execution_count": 142,
   "id": "8be3988b-710d-499d-b7f9-3f4377cc7c4a",
   "metadata": {},
   "outputs": [
    {
     "data": {
      "text/html": [
       "<div>\n",
       "<style scoped>\n",
       "    .dataframe tbody tr th:only-of-type {\n",
       "        vertical-align: middle;\n",
       "    }\n",
       "\n",
       "    .dataframe tbody tr th {\n",
       "        vertical-align: top;\n",
       "    }\n",
       "\n",
       "    .dataframe thead th {\n",
       "        text-align: right;\n",
       "    }\n",
       "</style>\n",
       "<table border=\"1\" class=\"dataframe\">\n",
       "  <thead>\n",
       "    <tr style=\"text-align: right;\">\n",
       "      <th></th>\n",
       "      <th>index</th>\n",
       "      <th>ref_coarse_cell</th>\n",
       "      <th>ref_fine_cell</th>\n",
       "      <th>year</th>\n",
       "      <th>month</th>\n",
       "      <th>day</th>\n",
       "      <th>target</th>\n",
       "      <th>av_lat_hflx</th>\n",
       "      <th>av_mslp</th>\n",
       "      <th>av_netlwsfc</th>\n",
       "      <th>...</th>\n",
       "      <th>topog</th>\n",
       "      <th>soil_albedo</th>\n",
       "      <th>ETnw</th>\n",
       "      <th>ETn</th>\n",
       "      <th>ETne</th>\n",
       "      <th>ETw</th>\n",
       "      <th>ETe</th>\n",
       "      <th>ETsw</th>\n",
       "      <th>ETs</th>\n",
       "      <th>ETse</th>\n",
       "    </tr>\n",
       "  </thead>\n",
       "  <tbody>\n",
       "    <tr>\n",
       "      <th>0</th>\n",
       "      <td>0</td>\n",
       "      <td>642</td>\n",
       "      <td>38410</td>\n",
       "      <td>1990</td>\n",
       "      <td>1</td>\n",
       "      <td>1</td>\n",
       "      <td>127.458336</td>\n",
       "      <td>103.0</td>\n",
       "      <td>101483.25</td>\n",
       "      <td>-95.066406</td>\n",
       "      <td>...</td>\n",
       "      <td>558.253296</td>\n",
       "      <td>0.115572</td>\n",
       "      <td>108.75</td>\n",
       "      <td>114.75</td>\n",
       "      <td>138.75</td>\n",
       "      <td>100.25</td>\n",
       "      <td>116.5</td>\n",
       "      <td>102.25</td>\n",
       "      <td>107.75</td>\n",
       "      <td>126.5</td>\n",
       "    </tr>\n",
       "    <tr>\n",
       "      <th>1</th>\n",
       "      <td>1</td>\n",
       "      <td>642</td>\n",
       "      <td>38411</td>\n",
       "      <td>1990</td>\n",
       "      <td>1</td>\n",
       "      <td>1</td>\n",
       "      <td>130.458328</td>\n",
       "      <td>103.0</td>\n",
       "      <td>101483.25</td>\n",
       "      <td>-95.066406</td>\n",
       "      <td>...</td>\n",
       "      <td>578.896240</td>\n",
       "      <td>0.115198</td>\n",
       "      <td>108.75</td>\n",
       "      <td>114.75</td>\n",
       "      <td>138.75</td>\n",
       "      <td>100.25</td>\n",
       "      <td>116.5</td>\n",
       "      <td>102.25</td>\n",
       "      <td>107.75</td>\n",
       "      <td>126.5</td>\n",
       "    </tr>\n",
       "    <tr>\n",
       "      <th>2</th>\n",
       "      <td>2</td>\n",
       "      <td>642</td>\n",
       "      <td>38412</td>\n",
       "      <td>1990</td>\n",
       "      <td>1</td>\n",
       "      <td>1</td>\n",
       "      <td>130.916672</td>\n",
       "      <td>103.0</td>\n",
       "      <td>101483.25</td>\n",
       "      <td>-95.066406</td>\n",
       "      <td>...</td>\n",
       "      <td>589.701294</td>\n",
       "      <td>0.114823</td>\n",
       "      <td>108.75</td>\n",
       "      <td>114.75</td>\n",
       "      <td>138.75</td>\n",
       "      <td>100.25</td>\n",
       "      <td>116.5</td>\n",
       "      <td>102.25</td>\n",
       "      <td>107.75</td>\n",
       "      <td>126.5</td>\n",
       "    </tr>\n",
       "    <tr>\n",
       "      <th>3</th>\n",
       "      <td>3</td>\n",
       "      <td>642</td>\n",
       "      <td>38413</td>\n",
       "      <td>1990</td>\n",
       "      <td>1</td>\n",
       "      <td>1</td>\n",
       "      <td>131.083328</td>\n",
       "      <td>103.0</td>\n",
       "      <td>101483.25</td>\n",
       "      <td>-95.066406</td>\n",
       "      <td>...</td>\n",
       "      <td>571.424072</td>\n",
       "      <td>0.114449</td>\n",
       "      <td>108.75</td>\n",
       "      <td>114.75</td>\n",
       "      <td>138.75</td>\n",
       "      <td>100.25</td>\n",
       "      <td>116.5</td>\n",
       "      <td>102.25</td>\n",
       "      <td>107.75</td>\n",
       "      <td>126.5</td>\n",
       "    </tr>\n",
       "    <tr>\n",
       "      <th>4</th>\n",
       "      <td>4</td>\n",
       "      <td>642</td>\n",
       "      <td>38414</td>\n",
       "      <td>1990</td>\n",
       "      <td>1</td>\n",
       "      <td>1</td>\n",
       "      <td>132.666672</td>\n",
       "      <td>103.0</td>\n",
       "      <td>101483.25</td>\n",
       "      <td>-95.066406</td>\n",
       "      <td>...</td>\n",
       "      <td>535.188477</td>\n",
       "      <td>0.114075</td>\n",
       "      <td>108.75</td>\n",
       "      <td>114.75</td>\n",
       "      <td>138.75</td>\n",
       "      <td>100.25</td>\n",
       "      <td>116.5</td>\n",
       "      <td>102.25</td>\n",
       "      <td>107.75</td>\n",
       "      <td>126.5</td>\n",
       "    </tr>\n",
       "    <tr>\n",
       "      <th>...</th>\n",
       "      <td>...</td>\n",
       "      <td>...</td>\n",
       "      <td>...</td>\n",
       "      <td>...</td>\n",
       "      <td>...</td>\n",
       "      <td>...</td>\n",
       "      <td>...</td>\n",
       "      <td>...</td>\n",
       "      <td>...</td>\n",
       "      <td>...</td>\n",
       "      <td>...</td>\n",
       "      <td>...</td>\n",
       "      <td>...</td>\n",
       "      <td>...</td>\n",
       "      <td>...</td>\n",
       "      <td>...</td>\n",
       "      <td>...</td>\n",
       "      <td>...</td>\n",
       "      <td>...</td>\n",
       "      <td>...</td>\n",
       "      <td>...</td>\n",
       "    </tr>\n",
       "    <tr>\n",
       "      <th>677883</th>\n",
       "      <td>23355</td>\n",
       "      <td>642</td>\n",
       "      <td>42571</td>\n",
       "      <td>2018</td>\n",
       "      <td>9</td>\n",
       "      <td>9</td>\n",
       "      <td>69.166664</td>\n",
       "      <td>69.5</td>\n",
       "      <td>101989.75</td>\n",
       "      <td>-109.976562</td>\n",
       "      <td>...</td>\n",
       "      <td>697.690308</td>\n",
       "      <td>0.106115</td>\n",
       "      <td>67.00</td>\n",
       "      <td>72.25</td>\n",
       "      <td>72.25</td>\n",
       "      <td>59.00</td>\n",
       "      <td>74.0</td>\n",
       "      <td>63.00</td>\n",
       "      <td>70.50</td>\n",
       "      <td>78.5</td>\n",
       "    </tr>\n",
       "    <tr>\n",
       "      <th>677884</th>\n",
       "      <td>23356</td>\n",
       "      <td>642</td>\n",
       "      <td>42572</td>\n",
       "      <td>2018</td>\n",
       "      <td>9</td>\n",
       "      <td>9</td>\n",
       "      <td>72.000000</td>\n",
       "      <td>69.5</td>\n",
       "      <td>101989.75</td>\n",
       "      <td>-109.976562</td>\n",
       "      <td>...</td>\n",
       "      <td>609.880127</td>\n",
       "      <td>0.107231</td>\n",
       "      <td>67.00</td>\n",
       "      <td>72.25</td>\n",
       "      <td>72.25</td>\n",
       "      <td>59.00</td>\n",
       "      <td>74.0</td>\n",
       "      <td>63.00</td>\n",
       "      <td>70.50</td>\n",
       "      <td>78.5</td>\n",
       "    </tr>\n",
       "    <tr>\n",
       "      <th>677885</th>\n",
       "      <td>23357</td>\n",
       "      <td>642</td>\n",
       "      <td>42573</td>\n",
       "      <td>2018</td>\n",
       "      <td>9</td>\n",
       "      <td>9</td>\n",
       "      <td>71.791664</td>\n",
       "      <td>69.5</td>\n",
       "      <td>101989.75</td>\n",
       "      <td>-109.976562</td>\n",
       "      <td>...</td>\n",
       "      <td>558.244934</td>\n",
       "      <td>0.108348</td>\n",
       "      <td>67.00</td>\n",
       "      <td>72.25</td>\n",
       "      <td>72.25</td>\n",
       "      <td>59.00</td>\n",
       "      <td>74.0</td>\n",
       "      <td>63.00</td>\n",
       "      <td>70.50</td>\n",
       "      <td>78.5</td>\n",
       "    </tr>\n",
       "    <tr>\n",
       "      <th>677886</th>\n",
       "      <td>23358</td>\n",
       "      <td>642</td>\n",
       "      <td>42574</td>\n",
       "      <td>2018</td>\n",
       "      <td>9</td>\n",
       "      <td>9</td>\n",
       "      <td>73.083336</td>\n",
       "      <td>69.5</td>\n",
       "      <td>101989.75</td>\n",
       "      <td>-109.976562</td>\n",
       "      <td>...</td>\n",
       "      <td>542.575623</td>\n",
       "      <td>0.109464</td>\n",
       "      <td>67.00</td>\n",
       "      <td>72.25</td>\n",
       "      <td>72.25</td>\n",
       "      <td>59.00</td>\n",
       "      <td>74.0</td>\n",
       "      <td>63.00</td>\n",
       "      <td>70.50</td>\n",
       "      <td>78.5</td>\n",
       "    </tr>\n",
       "    <tr>\n",
       "      <th>677887</th>\n",
       "      <td>23359</td>\n",
       "      <td>642</td>\n",
       "      <td>42575</td>\n",
       "      <td>2018</td>\n",
       "      <td>9</td>\n",
       "      <td>9</td>\n",
       "      <td>73.666664</td>\n",
       "      <td>69.5</td>\n",
       "      <td>101989.75</td>\n",
       "      <td>-109.976562</td>\n",
       "      <td>...</td>\n",
       "      <td>535.298523</td>\n",
       "      <td>0.110580</td>\n",
       "      <td>67.00</td>\n",
       "      <td>72.25</td>\n",
       "      <td>72.25</td>\n",
       "      <td>59.00</td>\n",
       "      <td>74.0</td>\n",
       "      <td>63.00</td>\n",
       "      <td>70.50</td>\n",
       "      <td>78.5</td>\n",
       "    </tr>\n",
       "  </tbody>\n",
       "</table>\n",
       "<p>677888 rows × 29 columns</p>\n",
       "</div>"
      ],
      "text/plain": [
       "        index  ref_coarse_cell  ref_fine_cell  year  month  day      target  \\\n",
       "0           0              642          38410  1990      1    1  127.458336   \n",
       "1           1              642          38411  1990      1    1  130.458328   \n",
       "2           2              642          38412  1990      1    1  130.916672   \n",
       "3           3              642          38413  1990      1    1  131.083328   \n",
       "4           4              642          38414  1990      1    1  132.666672   \n",
       "...       ...              ...            ...   ...    ...  ...         ...   \n",
       "677883  23355              642          42571  2018      9    9   69.166664   \n",
       "677884  23356              642          42572  2018      9    9   72.000000   \n",
       "677885  23357              642          42573  2018      9    9   71.791664   \n",
       "677886  23358              642          42574  2018      9    9   73.083336   \n",
       "677887  23359              642          42575  2018      9    9   73.666664   \n",
       "\n",
       "        av_lat_hflx    av_mslp  av_netlwsfc  ...       topog  soil_albedo  \\\n",
       "0             103.0  101483.25   -95.066406  ...  558.253296     0.115572   \n",
       "1             103.0  101483.25   -95.066406  ...  578.896240     0.115198   \n",
       "2             103.0  101483.25   -95.066406  ...  589.701294     0.114823   \n",
       "3             103.0  101483.25   -95.066406  ...  571.424072     0.114449   \n",
       "4             103.0  101483.25   -95.066406  ...  535.188477     0.114075   \n",
       "...             ...        ...          ...  ...         ...          ...   \n",
       "677883         69.5  101989.75  -109.976562  ...  697.690308     0.106115   \n",
       "677884         69.5  101989.75  -109.976562  ...  609.880127     0.107231   \n",
       "677885         69.5  101989.75  -109.976562  ...  558.244934     0.108348   \n",
       "677886         69.5  101989.75  -109.976562  ...  542.575623     0.109464   \n",
       "677887         69.5  101989.75  -109.976562  ...  535.298523     0.110580   \n",
       "\n",
       "          ETnw     ETn    ETne     ETw    ETe    ETsw     ETs   ETse  \n",
       "0       108.75  114.75  138.75  100.25  116.5  102.25  107.75  126.5  \n",
       "1       108.75  114.75  138.75  100.25  116.5  102.25  107.75  126.5  \n",
       "2       108.75  114.75  138.75  100.25  116.5  102.25  107.75  126.5  \n",
       "3       108.75  114.75  138.75  100.25  116.5  102.25  107.75  126.5  \n",
       "4       108.75  114.75  138.75  100.25  116.5  102.25  107.75  126.5  \n",
       "...        ...     ...     ...     ...    ...     ...     ...    ...  \n",
       "677883   67.00   72.25   72.25   59.00   74.0   63.00   70.50   78.5  \n",
       "677884   67.00   72.25   72.25   59.00   74.0   63.00   70.50   78.5  \n",
       "677885   67.00   72.25   72.25   59.00   74.0   63.00   70.50   78.5  \n",
       "677886   67.00   72.25   72.25   59.00   74.0   63.00   70.50   78.5  \n",
       "677887   67.00   72.25   72.25   59.00   74.0   63.00   70.50   78.5  \n",
       "\n",
       "[677888 rows x 29 columns]"
      ]
     },
     "execution_count": 142,
     "metadata": {},
     "output_type": "execute_result"
    }
   ],
   "source": [
    "index_training"
   ]
  },
  {
   "cell_type": "code",
   "execution_count": 149,
   "id": "13d923ca-4ddc-4399-9833-adef14662c8f",
   "metadata": {},
   "outputs": [],
   "source": [
    "X = all_sample_df[featuresList]\n",
    "X = cuml.preprocessing.StandardScaler().fit_transform(X) \n",
    "#X = X[index_training.dropna(axis=0).to_cupy()]\n",
    "#print('shape of X is ', X.shape)\n",
    "#print(index_training.shape)"
   ]
  },
  {
   "cell_type": "code",
   "execution_count": 152,
   "id": "23f49cae-a665-470e-b694-f2c3eeff5bb5",
   "metadata": {},
   "outputs": [],
   "source": [
    "# target\n",
    "y = all_sample_df.iloc[index_training.dropna(axis=0).to_cupy()]\n",
    "y  = y[['target']]"
   ]
  },
  {
   "cell_type": "code",
   "execution_count": 153,
   "id": "1afae790-d66a-45ae-b855-d4561a58b57a",
   "metadata": {},
   "outputs": [
    {
     "ename": "ValueError",
     "evalue": "Expected 677888 rows but got 233856 rows.",
     "output_type": "error",
     "traceback": [
      "\u001b[0;31m---------------------------------------------------------------------------\u001b[0m",
      "\u001b[0;31mValueError\u001b[0m                                Traceback (most recent call last)",
      "\u001b[0;32m<timed exec>\u001b[0m in \u001b[0;36m<module>\u001b[0;34m\u001b[0m\n",
      "\u001b[0;32m/opt/conda/envs/rapids/lib/python3.9/site-packages/cuml/internals/api_decorators.py\u001b[0m in \u001b[0;36minner_with_setters\u001b[0;34m(*args, **kwargs)\u001b[0m\n\u001b[1;32m    407\u001b[0m                                 target_val=target_val)\n\u001b[1;32m    408\u001b[0m \u001b[0;34m\u001b[0m\u001b[0m\n\u001b[0;32m--> 409\u001b[0;31m                 \u001b[0;32mreturn\u001b[0m \u001b[0mfunc\u001b[0m\u001b[0;34m(\u001b[0m\u001b[0;34m*\u001b[0m\u001b[0margs\u001b[0m\u001b[0;34m,\u001b[0m \u001b[0;34m**\u001b[0m\u001b[0mkwargs\u001b[0m\u001b[0;34m)\u001b[0m\u001b[0;34m\u001b[0m\u001b[0;34m\u001b[0m\u001b[0m\n\u001b[0m\u001b[1;32m    410\u001b[0m \u001b[0;34m\u001b[0m\u001b[0m\n\u001b[1;32m    411\u001b[0m         \u001b[0;34m@\u001b[0m\u001b[0mwraps\u001b[0m\u001b[0;34m(\u001b[0m\u001b[0mfunc\u001b[0m\u001b[0;34m)\u001b[0m\u001b[0;34m\u001b[0m\u001b[0;34m\u001b[0m\u001b[0m\n",
      "\u001b[0;32mcuml/linear_model/linear_regression.pyx\u001b[0m in \u001b[0;36mcuml.linear_model.linear_regression.LinearRegression.fit\u001b[0;34m()\u001b[0m\n",
      "\u001b[0;32m/opt/conda/envs/rapids/lib/python3.9/contextlib.py\u001b[0m in \u001b[0;36minner\u001b[0;34m(*args, **kwds)\u001b[0m\n\u001b[1;32m     77\u001b[0m         \u001b[0;32mdef\u001b[0m \u001b[0minner\u001b[0m\u001b[0;34m(\u001b[0m\u001b[0;34m*\u001b[0m\u001b[0margs\u001b[0m\u001b[0;34m,\u001b[0m \u001b[0;34m**\u001b[0m\u001b[0mkwds\u001b[0m\u001b[0;34m)\u001b[0m\u001b[0;34m:\u001b[0m\u001b[0;34m\u001b[0m\u001b[0;34m\u001b[0m\u001b[0m\n\u001b[1;32m     78\u001b[0m             \u001b[0;32mwith\u001b[0m \u001b[0mself\u001b[0m\u001b[0;34m.\u001b[0m\u001b[0m_recreate_cm\u001b[0m\u001b[0;34m(\u001b[0m\u001b[0;34m)\u001b[0m\u001b[0;34m:\u001b[0m\u001b[0;34m\u001b[0m\u001b[0;34m\u001b[0m\u001b[0m\n\u001b[0;32m---> 79\u001b[0;31m                 \u001b[0;32mreturn\u001b[0m \u001b[0mfunc\u001b[0m\u001b[0;34m(\u001b[0m\u001b[0;34m*\u001b[0m\u001b[0margs\u001b[0m\u001b[0;34m,\u001b[0m \u001b[0;34m**\u001b[0m\u001b[0mkwds\u001b[0m\u001b[0;34m)\u001b[0m\u001b[0;34m\u001b[0m\u001b[0;34m\u001b[0m\u001b[0m\n\u001b[0m\u001b[1;32m     80\u001b[0m         \u001b[0;32mreturn\u001b[0m \u001b[0minner\u001b[0m\u001b[0;34m\u001b[0m\u001b[0;34m\u001b[0m\u001b[0m\n\u001b[1;32m     81\u001b[0m \u001b[0;34m\u001b[0m\u001b[0m\n",
      "\u001b[0;32m/opt/conda/envs/rapids/lib/python3.9/site-packages/cuml/internals/api_decorators.py\u001b[0m in \u001b[0;36minner\u001b[0;34m(*args, **kwargs)\u001b[0m\n\u001b[1;32m    358\u001b[0m         \u001b[0;32mdef\u001b[0m \u001b[0minner\u001b[0m\u001b[0;34m(\u001b[0m\u001b[0;34m*\u001b[0m\u001b[0margs\u001b[0m\u001b[0;34m,\u001b[0m \u001b[0;34m**\u001b[0m\u001b[0mkwargs\u001b[0m\u001b[0;34m)\u001b[0m\u001b[0;34m:\u001b[0m\u001b[0;34m\u001b[0m\u001b[0;34m\u001b[0m\u001b[0m\n\u001b[1;32m    359\u001b[0m             \u001b[0;32mwith\u001b[0m \u001b[0mself\u001b[0m\u001b[0;34m.\u001b[0m\u001b[0m_recreate_cm\u001b[0m\u001b[0;34m(\u001b[0m\u001b[0mfunc\u001b[0m\u001b[0;34m,\u001b[0m \u001b[0margs\u001b[0m\u001b[0;34m)\u001b[0m\u001b[0;34m:\u001b[0m\u001b[0;34m\u001b[0m\u001b[0;34m\u001b[0m\u001b[0m\n\u001b[0;32m--> 360\u001b[0;31m                 \u001b[0;32mreturn\u001b[0m \u001b[0mfunc\u001b[0m\u001b[0;34m(\u001b[0m\u001b[0;34m*\u001b[0m\u001b[0margs\u001b[0m\u001b[0;34m,\u001b[0m \u001b[0;34m**\u001b[0m\u001b[0mkwargs\u001b[0m\u001b[0;34m)\u001b[0m\u001b[0;34m\u001b[0m\u001b[0;34m\u001b[0m\u001b[0m\n\u001b[0m\u001b[1;32m    361\u001b[0m \u001b[0;34m\u001b[0m\u001b[0m\n\u001b[1;32m    362\u001b[0m         \u001b[0;32mreturn\u001b[0m \u001b[0minner\u001b[0m\u001b[0;34m\u001b[0m\u001b[0;34m\u001b[0m\u001b[0m\n",
      "\u001b[0;32m/opt/conda/envs/rapids/lib/python3.9/site-packages/cuml/common/input_utils.py\u001b[0m in \u001b[0;36minput_to_cuml_array\u001b[0;34m(X, order, deepcopy, check_dtype, convert_to_dtype, safe_dtype_conversion, check_cols, check_rows, fail_on_order, force_contiguous)\u001b[0m\n\u001b[1;32m    410\u001b[0m     \u001b[0;32mif\u001b[0m \u001b[0mcheck_rows\u001b[0m\u001b[0;34m:\u001b[0m\u001b[0;34m\u001b[0m\u001b[0;34m\u001b[0m\u001b[0m\n\u001b[1;32m    411\u001b[0m         \u001b[0;32mif\u001b[0m \u001b[0mn_rows\u001b[0m \u001b[0;34m!=\u001b[0m \u001b[0mcheck_rows\u001b[0m\u001b[0;34m:\u001b[0m\u001b[0;34m\u001b[0m\u001b[0;34m\u001b[0m\u001b[0m\n\u001b[0;32m--> 412\u001b[0;31m             raise ValueError(\"Expected \" + str(check_rows) + \" rows but got \" +\n\u001b[0m\u001b[1;32m    413\u001b[0m                              str(n_rows) + \" rows.\")\n\u001b[1;32m    414\u001b[0m \u001b[0;34m\u001b[0m\u001b[0m\n",
      "\u001b[0;31mValueError\u001b[0m: Expected 677888 rows but got 233856 rows."
     ]
    }
   ],
   "source": [
    "%%time\n",
    "import random\n",
    "\n",
    "random.seed(seed)\n",
    "regr = cuml.linear_model.LinearRegression()\n",
    "regr.fit(X, y)"
   ]
  },
  {
   "cell_type": "code",
   "execution_count": null,
   "id": "25f9831c-a4e5-410d-8fd1-520e3f6549b8",
   "metadata": {},
   "outputs": [],
   "source": []
  }
 ],
 "metadata": {
  "kernelspec": {
   "display_name": "Python 3 (ipykernel)",
   "language": "python",
   "name": "python3"
  },
  "language_info": {
   "codemirror_mode": {
    "name": "ipython",
    "version": 3
   },
   "file_extension": ".py",
   "mimetype": "text/x-python",
   "name": "python",
   "nbconvert_exporter": "python",
   "pygments_lexer": "ipython3",
   "version": "3.9.10"
  }
 },
 "nbformat": 4,
 "nbformat_minor": 5
}
